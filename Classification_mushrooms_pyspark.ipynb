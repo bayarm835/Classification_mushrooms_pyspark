{
 "cells": [
  {
   "cell_type": "code",
   "execution_count": 2,
   "id": "b62dd502-144e-4459-b6a3-52d23e23589e",
   "metadata": {},
   "outputs": [],
   "source": [
    "from pyspark.sql import SparkSession"
   ]
  },
  {
   "cell_type": "code",
   "execution_count": 3,
   "id": "ee4b81e2-b67e-4f03-9039-69fb81406f42",
   "metadata": {},
   "outputs": [
    {
     "data": {
      "text/html": [
       "\n",
       "            <div>\n",
       "                <p><b>SparkSession - in-memory</b></p>\n",
       "                \n",
       "        <div>\n",
       "            <p><b>SparkContext</b></p>\n",
       "\n",
       "            <p><a href=\"http://153d00f186da:4040\">Spark UI</a></p>\n",
       "\n",
       "            <dl>\n",
       "              <dt>Version</dt>\n",
       "                <dd><code>v3.5.0</code></dd>\n",
       "              <dt>Master</dt>\n",
       "                <dd><code>local[*]</code></dd>\n",
       "              <dt>AppName</dt>\n",
       "                <dd><code>Practice</code></dd>\n",
       "            </dl>\n",
       "        </div>\n",
       "        \n",
       "            </div>\n",
       "        "
      ],
      "text/plain": [
       "<pyspark.sql.session.SparkSession at 0x7f1d483a8690>"
      ]
     },
     "execution_count": 3,
     "metadata": {},
     "output_type": "execute_result"
    }
   ],
   "source": [
    "spark = SparkSession.builder.appName(\"Practice\").getOrCreate()\n",
    "spark"
   ]
  },
  {
   "cell_type": "code",
   "execution_count": 4,
   "id": "6153d323-cf4a-45c3-ae34-ed43d3ff54f8",
   "metadata": {},
   "outputs": [],
   "source": [
    "df_pyspark = spark.read.csv(\"mushrooms.csv\",inferSchema=True, header=True)"
   ]
  },
  {
   "cell_type": "code",
   "execution_count": 5,
   "id": "00afec45-05e6-421b-9202-fad534882880",
   "metadata": {},
   "outputs": [
    {
     "name": "stdout",
     "output_type": "stream",
     "text": [
      "+-----+---------+-----------+---------+-------+----+---------------+------------+---------+----------+-----------+----------+------------------------+------------------------+----------------------+----------------------+---------+----------+-----------+---------+-----------------+----------+-------+\n",
      "|class|cap_shape|cap_surface|cap_color|bruises|odor|gill_attachment|gill_spacing|gill_size|gill_color|stalk_shape|stalk_root|stalk_surface_above_ring|stalk_surface_below_ring|stalk_color_above_ring|stalk_color_below_ring|veil_type|veil_color|ring_number|ring_type|spore_print_color|population|habitat|\n",
      "+-----+---------+-----------+---------+-------+----+---------------+------------+---------+----------+-----------+----------+------------------------+------------------------+----------------------+----------------------+---------+----------+-----------+---------+-----------------+----------+-------+\n",
      "|    p|        x|          s|        n|      t|   p|              f|           c|        n|         k|          e|         e|                       s|                       s|                     w|                     w|        p|         w|          o|        p|                k|         s|      u|\n",
      "|    e|        x|          s|        y|      t|   a|              f|           c|        b|         k|          e|         c|                       s|                       s|                     w|                     w|        p|         w|          o|        p|                n|         n|      g|\n",
      "|    e|        b|          s|        w|      t|   l|              f|           c|        b|         n|          e|         c|                       s|                       s|                     w|                     w|        p|         w|          o|        p|                n|         n|      m|\n",
      "|    p|        x|          y|        w|      t|   p|              f|           c|        n|         n|          e|         e|                       s|                       s|                     w|                     w|        p|         w|          o|        p|                k|         s|      u|\n",
      "|    e|        x|          s|        g|      f|   n|              f|           w|        b|         k|          t|         e|                       s|                       s|                     w|                     w|        p|         w|          o|        e|                n|         a|      g|\n",
      "+-----+---------+-----------+---------+-------+----+---------------+------------+---------+----------+-----------+----------+------------------------+------------------------+----------------------+----------------------+---------+----------+-----------+---------+-----------------+----------+-------+\n",
      "only showing top 5 rows\n",
      "\n"
     ]
    }
   ],
   "source": [
    "df_pyspark.show (5)"
   ]
  },
  {
   "cell_type": "code",
   "execution_count": 6,
   "id": "85177ad8-b82a-4627-a839-435251fb1634",
   "metadata": {},
   "outputs": [
    {
     "name": "stdout",
     "output_type": "stream",
     "text": [
      "root\n",
      " |-- class: string (nullable = true)\n",
      " |-- cap_shape: string (nullable = true)\n",
      " |-- cap_surface: string (nullable = true)\n",
      " |-- cap_color: string (nullable = true)\n",
      " |-- bruises: string (nullable = true)\n",
      " |-- odor: string (nullable = true)\n",
      " |-- gill_attachment: string (nullable = true)\n",
      " |-- gill_spacing: string (nullable = true)\n",
      " |-- gill_size: string (nullable = true)\n",
      " |-- gill_color: string (nullable = true)\n",
      " |-- stalk_shape: string (nullable = true)\n",
      " |-- stalk_root: string (nullable = true)\n",
      " |-- stalk_surface_above_ring: string (nullable = true)\n",
      " |-- stalk_surface_below_ring: string (nullable = true)\n",
      " |-- stalk_color_above_ring: string (nullable = true)\n",
      " |-- stalk_color_below_ring: string (nullable = true)\n",
      " |-- veil_type: string (nullable = true)\n",
      " |-- veil_color: string (nullable = true)\n",
      " |-- ring_number: string (nullable = true)\n",
      " |-- ring_type: string (nullable = true)\n",
      " |-- spore_print_color: string (nullable = true)\n",
      " |-- population: string (nullable = true)\n",
      " |-- habitat: string (nullable = true)\n",
      "\n"
     ]
    }
   ],
   "source": [
    "df_pyspark.printSchema()"
   ]
  },
  {
   "cell_type": "markdown",
   "id": "d7237e6f-a6b4-44ad-86ec-29c2b1371f09",
   "metadata": {},
   "source": [
    "As we can see, we have String Columns. Let's encode them into Integers using Pyspark StringIndexer."
   ]
  },
  {
   "cell_type": "code",
   "execution_count": 7,
   "id": "33d6b54f-d025-43d4-9649-f0fec7bb5ef4",
   "metadata": {},
   "outputs": [],
   "source": [
    "from pyspark.ml.feature import StringIndexer\n"
   ]
  },
  {
   "cell_type": "code",
   "execution_count": 8,
   "id": "0ceaf923-a54f-452a-81b0-45e395d9f076",
   "metadata": {},
   "outputs": [],
   "source": [
    "categoricalColumns = [\"class\", \"cap_shape\", \"cap_surface\", \"cap_color\", \"bruises\", \"odor\", \"gill_attachment\", \"gill_spacing\", \"gill_size\", \"gill_color\", \"stalk_shape\", \"stalk_root\", \"stalk_surface_above_ring\", \"stalk_surface_below_ring\", \"stalk_color_above_ring\", \"stalk_color_below_ring\", \"veil_type\", \"veil_color\", \"ring_number\", \"ring_type\", \"spore_print_color\", \"population\", \"habitat\"]"
   ]
  },
  {
   "cell_type": "code",
   "execution_count": 10,
   "id": "da652081-d5d8-4096-a159-ed44f6d45ccf",
   "metadata": {},
   "outputs": [],
   "source": [
    "# Appliquer StringIndexer pour chaque colonne catégorielle\n",
    "for categoricalCol in categoricalColumns:\n",
    "    stringIndexer = StringIndexer(inputCol=categoricalCol, \n",
    "                                  outputCol=categoricalCol + \"_encoded\").fit(df_pyspark)\n",
    "    df_pyspark = stringIndexer.transform(df_pyspark)\n",
    "    # Conversion du type après transformation\n",
    "    df_pyspark = df_pyspark.withColumn(categoricalCol + \"_encoded\", \n",
    "                                       df_pyspark[categoricalCol + \"_encoded\"].cast('int'))"
   ]
  },
  {
   "cell_type": "code",
   "execution_count": 11,
   "id": "390a7df9-2da2-4f54-8057-67e1ef123166",
   "metadata": {},
   "outputs": [],
   "source": [
    "# Sélectionner les colonnes encodées\n",
    "encoded_df = df_pyspark.select(\"class_encoded\", \"cap_shape_encoded\", \"cap_surface_encoded\", \n",
    "                                \"cap_color_encoded\", \"bruises_encoded\", \n",
    "                                \"odor_encoded\", \"gill_attachment_encoded\", \n",
    "                                \"gill_spacing_encoded\", \"gill_size_encoded\", \n",
    "                                \"gill_color_encoded\", \"stalk_shape_encoded\", \n",
    "                                \"stalk_root_encoded\", \"stalk_surface_above_ring_encoded\", \n",
    "                                \"stalk_surface_below_ring_encoded\", \n",
    "                                \"stalk_color_above_ring_encoded\", \n",
    "                                \"stalk_color_below_ring_encoded\", \n",
    "                                \"veil_type_encoded\", \"veil_color_encoded\", \n",
    "                                \"ring_number_encoded\", \"ring_type_encoded\", \n",
    "                                \"spore_print_color_encoded\", \n",
    "                                \"population_encoded\", \"habitat_encoded\")"
   ]
  },
  {
   "cell_type": "code",
   "execution_count": 12,
   "id": "97eca3d4-3a8c-4702-b77f-7edfc2c86dc0",
   "metadata": {},
   "outputs": [
    {
     "name": "stdout",
     "output_type": "stream",
     "text": [
      "+-------------+-----------------+-------------------+-----------------+---------------+------------+-----------------------+--------------------+-----------------+------------------+-------------------+------------------+--------------------------------+--------------------------------+------------------------------+------------------------------+-----------------+------------------+-------------------+-----------------+-------------------------+------------------+---------------+\n",
      "|class_encoded|cap_shape_encoded|cap_surface_encoded|cap_color_encoded|bruises_encoded|odor_encoded|gill_attachment_encoded|gill_spacing_encoded|gill_size_encoded|gill_color_encoded|stalk_shape_encoded|stalk_root_encoded|stalk_surface_above_ring_encoded|stalk_surface_below_ring_encoded|stalk_color_above_ring_encoded|stalk_color_below_ring_encoded|veil_type_encoded|veil_color_encoded|ring_number_encoded|ring_type_encoded|spore_print_color_encoded|population_encoded|habitat_encoded|\n",
      "+-------------+-----------------+-------------------+-----------------+---------------+------------+-----------------------+--------------------+-----------------+------------------+-------------------+------------------+--------------------------------+--------------------------------+------------------------------+------------------------------+-----------------+------------------+-------------------+-----------------+-------------------------+------------------+---------------+\n",
      "|            1|                0|                  1|                0|              1|           6|                      0|                   0|                1|                 7|                  1|                 2|                               0|                               0|                             0|                             0|                0|                 0|                  0|                0|                        2|                 2|              4|\n",
      "|            0|                0|                  1|                3|              1|           4|                      0|                   0|                0|                 7|                  1|                 3|                               0|                               0|                             0|                             0|                0|                 0|                  0|                0|                        1|                 3|              1|\n",
      "|            0|                3|                  1|                4|              1|           5|                      0|                   0|                0|                 3|                  1|                 3|                               0|                               0|                             0|                             0|                0|                 0|                  0|                0|                        1|                 3|              5|\n",
      "|            1|                0|                  0|                4|              1|           6|                      0|                   0|                1|                 3|                  1|                 2|                               0|                               0|                             0|                             0|                0|                 0|                  0|                0|                        2|                 2|              4|\n",
      "|            0|                0|                  1|                1|              0|           0|                      0|                   1|                0|                 7|                  0|                 2|                               0|                               0|                             0|                             0|                0|                 0|                  0|                1|                        1|                 4|              1|\n",
      "+-------------+-----------------+-------------------+-----------------+---------------+------------+-----------------------+--------------------+-----------------+------------------+-------------------+------------------+--------------------------------+--------------------------------+------------------------------+------------------------------+-----------------+------------------+-------------------+-----------------+-------------------------+------------------+---------------+\n",
      "only showing top 5 rows\n",
      "\n"
     ]
    }
   ],
   "source": [
    "encoded_df.show(5)"
   ]
  },
  {
   "cell_type": "code",
   "execution_count": 13,
   "id": "fb84cd76-636a-4541-ba9d-34ecc8de5fa3",
   "metadata": {},
   "outputs": [],
   "source": [
    "from pyspark.ml.feature import VectorAssembler"
   ]
  },
  {
   "cell_type": "code",
   "execution_count": 14,
   "id": "639f9b26-5a83-4101-9711-820694a3c40f",
   "metadata": {},
   "outputs": [],
   "source": [
    "featureAssembler = VectorAssembler(inputCols=[\"cap_shape_encoded\", \"cap_surface_encoded\", \n",
    "                                \"cap_color_encoded\", \"bruises_encoded\", \n",
    "                                \"odor_encoded\", \"gill_attachment_encoded\", \n",
    "                                \"gill_spacing_encoded\", \"gill_size_encoded\", \n",
    "                                \"gill_color_encoded\", \"stalk_shape_encoded\", \n",
    "                                \"stalk_root_encoded\", \"stalk_surface_above_ring_encoded\", \n",
    "                                \"stalk_surface_below_ring_encoded\", \n",
    "                                \"stalk_color_above_ring_encoded\", \n",
    "                                \"stalk_color_below_ring_encoded\", \n",
    "                                \"veil_type_encoded\", \"veil_color_encoded\", \n",
    "                                \"ring_number_encoded\", \"ring_type_encoded\", \n",
    "                                \"spore_print_color_encoded\", \n",
    "                                \"population_encoded\", \"habitat_encoded\"],outputCol=\"features\")"
   ]
  },
  {
   "cell_type": "code",
   "execution_count": 15,
   "id": "eb41b1d5-2124-4108-a985-647d609347c5",
   "metadata": {},
   "outputs": [],
   "source": [
    "output = featureAssembler.transform(encoded_df)"
   ]
  },
  {
   "cell_type": "code",
   "execution_count": 16,
   "id": "7560c094-6725-4696-bbbc-8717477cea24",
   "metadata": {},
   "outputs": [
    {
     "name": "stdout",
     "output_type": "stream",
     "text": [
      "+--------------------+-------------+\n",
      "|            features|class_encoded|\n",
      "+--------------------+-------------+\n",
      "|(22,[1,3,4,7,8,9,...|            1|\n",
      "|(22,[1,2,3,4,8,9,...|            0|\n",
      "|(22,[0,1,2,3,4,8,...|            0|\n",
      "|(22,[2,3,4,7,8,9,...|            1|\n",
      "|(22,[1,2,6,8,10,1...|            0|\n",
      "+--------------------+-------------+\n",
      "only showing top 5 rows\n",
      "\n"
     ]
    }
   ],
   "source": [
    "output.select(\"features\",\"class_encoded\").show(5)\n"
   ]
  },
  {
   "cell_type": "code",
   "execution_count": 17,
   "id": "16b39686-be1d-4ba8-a691-260fff85f067",
   "metadata": {},
   "outputs": [],
   "source": [
    "train, test = output.randomSplit([0.8, 0.2], seed=17)"
   ]
  },
  {
   "cell_type": "code",
   "execution_count": 18,
   "id": "7d4dcc78-245f-4e7c-a79b-7ae19738a2c7",
   "metadata": {},
   "outputs": [
    {
     "name": "stdout",
     "output_type": "stream",
     "text": [
      "Size of training data:  6471\n",
      "Size of testing data:  1653\n"
     ]
    }
   ],
   "source": [
    "print(\"Size of training data: \", train.count())\n",
    "print(\"Size of testing data: \", test.count())"
   ]
  },
  {
   "cell_type": "code",
   "execution_count": 19,
   "id": "d9534baf-3b9f-44c4-ba7e-73ee67ab8a2b",
   "metadata": {},
   "outputs": [],
   "source": [
    "from pyspark.ml.classification import LogisticRegression"
   ]
  },
  {
   "cell_type": "code",
   "execution_count": 20,
   "id": "84f18101-e78a-45ca-83cb-be82cc26d0c1",
   "metadata": {},
   "outputs": [],
   "source": [
    "lr = LogisticRegression(featuresCol = 'features', labelCol = 'class_encoded', maxIter=10)"
   ]
  },
  {
   "cell_type": "code",
   "execution_count": 21,
   "id": "d63d4d3f-31af-402f-a874-75e9d1a865cb",
   "metadata": {},
   "outputs": [],
   "source": [
    "lrModel = lr.fit(train)"
   ]
  },
  {
   "cell_type": "code",
   "execution_count": 22,
   "id": "3d7fba86-b808-4353-8940-aec4b9d6ca8e",
   "metadata": {},
   "outputs": [],
   "source": [
    "predictions = lrModel.transform(test)"
   ]
  },
  {
   "cell_type": "code",
   "execution_count": 23,
   "id": "72d2682c-c559-4bd8-b1c6-3be6eaa17f9f",
   "metadata": {},
   "outputs": [
    {
     "name": "stdout",
     "output_type": "stream",
     "text": [
      "+-------------+-----------------+-------------------+-----------------+---------------+------------+-----------------------+--------------------+-----------------+------------------+-------------------+------------------+--------------------------------+--------------------------------+------------------------------+------------------------------+-----------------+------------------+-------------------+-----------------+-------------------------+------------------+---------------+--------------------+--------------------+--------------------+----------+\n",
      "|class_encoded|cap_shape_encoded|cap_surface_encoded|cap_color_encoded|bruises_encoded|odor_encoded|gill_attachment_encoded|gill_spacing_encoded|gill_size_encoded|gill_color_encoded|stalk_shape_encoded|stalk_root_encoded|stalk_surface_above_ring_encoded|stalk_surface_below_ring_encoded|stalk_color_above_ring_encoded|stalk_color_below_ring_encoded|veil_type_encoded|veil_color_encoded|ring_number_encoded|ring_type_encoded|spore_print_color_encoded|population_encoded|habitat_encoded|            features|       rawPrediction|         probability|prediction|\n",
      "+-------------+-----------------+-------------------+-----------------+---------------+------------+-----------------------+--------------------+-----------------+------------------+-------------------+------------------+--------------------------------+--------------------------------+------------------------------+------------------------------+-----------------+------------------+-------------------+-----------------+-------------------------+------------------+---------------+--------------------+--------------------+--------------------+----------+\n",
      "|            0|                0|                  0|                0|              0|           0|                      0|                   0|                0|                 2|                  1|                 0|                               3|                               3|                             3|                             3|                0|                 0|                  1|                0|                        0|                 1|              0|(22,[8,9,11,12,13...|[-13.001935995575...|[2.25595256313146...|       1.0|\n",
      "|            0|                0|                  0|                0|              1|           0|                      0|                   0|                0|                 1|                  0|                 0|                               0|                               0|                             0|                             0|                0|                 0|                  0|                0|                        1|                 0|              0|(22,[3,8,19],[1.0...|[4.34924746542390...|[0.98724818019234...|       0.0|\n",
      "|            0|                0|                  0|                0|              1|           0|                      0|                   0|                0|                 1|                  0|                 0|                               0|                               0|                             0|                             1|                0|                 0|                  0|                0|                        1|                 1|              0|(22,[3,8,14,19,20...|[4.71464232394643...|[0.99111655161229...|       0.0|\n",
      "|            0|                0|                  0|                0|              1|           0|                      0|                   0|                0|                 1|                  0|                 0|                               0|                               0|                             1|                             0|                0|                 0|                  0|                0|                        2|                 0|              0|(22,[3,8,13,19],[...|[4.39055792368841...|[0.98775791363336...|       0.0|\n",
      "|            0|                0|                  0|                0|              1|           0|                      0|                   0|                0|                 1|                  0|                 0|                               0|                               0|                             1|                             0|                0|                 0|                  0|                0|                        2|                 1|              0|(22,[3,8,13,19,20...|[4.63379505029886...|[0.99037571748552...|       0.0|\n",
      "+-------------+-----------------+-------------------+-----------------+---------------+------------+-----------------------+--------------------+-----------------+------------------+-------------------+------------------+--------------------------------+--------------------------------+------------------------------+------------------------------+-----------------+------------------+-------------------+-----------------+-------------------------+------------------+---------------+--------------------+--------------------+--------------------+----------+\n",
      "only showing top 5 rows\n",
      "\n"
     ]
    }
   ],
   "source": [
    "predictions.show(5)"
   ]
  },
  {
   "cell_type": "code",
   "execution_count": 24,
   "id": "54380d8e-f091-4f2b-b4c4-7bc63a666871",
   "metadata": {},
   "outputs": [],
   "source": [
    "from pyspark.ml.evaluation import MulticlassClassificationEvaluator"
   ]
  },
  {
   "cell_type": "code",
   "execution_count": 25,
   "id": "bd2b8bcf-e97d-429f-a3a3-bdfe99b08b71",
   "metadata": {},
   "outputs": [],
   "source": [
    "evaluator = MulticlassClassificationEvaluator()\n"
   ]
  },
  {
   "cell_type": "code",
   "execution_count": 26,
   "id": "7539a3a1-ff0b-4a3a-9a6e-68f3a6cda312",
   "metadata": {},
   "outputs": [
    {
     "data": {
      "text/plain": [
       "MulticlassClassificationEvaluator_29024fde9395"
      ]
     },
     "execution_count": 26,
     "metadata": {},
     "output_type": "execute_result"
    }
   ],
   "source": [
    "evaluator.setLabelCol(\"class_encoded\")\n"
   ]
  },
  {
   "cell_type": "code",
   "execution_count": 27,
   "id": "a8c39c34-dfcf-43b6-baa0-6a3c433ff5e8",
   "metadata": {},
   "outputs": [
    {
     "data": {
      "text/plain": [
       "MulticlassClassificationEvaluator_29024fde9395"
      ]
     },
     "execution_count": 27,
     "metadata": {},
     "output_type": "execute_result"
    }
   ],
   "source": [
    "evaluator.setPredictionCol(\"prediction\")\n"
   ]
  },
  {
   "cell_type": "code",
   "execution_count": 28,
   "id": "ba582ed3-5ef6-44d9-986c-83728e20e0eb",
   "metadata": {},
   "outputs": [
    {
     "data": {
      "text/plain": [
       "0.9915305505142167"
      ]
     },
     "execution_count": 28,
     "metadata": {},
     "output_type": "execute_result"
    }
   ],
   "source": [
    "evaluator.evaluate(predictions)\n"
   ]
  },
  {
   "cell_type": "markdown",
   "id": "c0a042a0-2afe-4aa2-aedc-1d98a8b2d8e3",
   "metadata": {},
   "source": [
    "Résultat avec LinearRegression"
   ]
  },
  {
   "cell_type": "code",
   "execution_count": 29,
   "id": "de0998c3-9085-42e1-b9c4-e7d1f16498af",
   "metadata": {},
   "outputs": [],
   "source": [
    "from pyspark.ml.classification import DecisionTreeClassifier\n",
    "from pyspark.ml.evaluation import MulticlassClassificationEvaluator"
   ]
  },
  {
   "cell_type": "code",
   "execution_count": 31,
   "id": "22e30a87-59c8-4cde-b711-5d5b771a04c8",
   "metadata": {},
   "outputs": [],
   "source": [
    "#Training Model\n",
    "\n",
    "dt = DecisionTreeClassifier(featuresCol = 'features', labelCol = 'class_encoded', maxDepth = 3)\n",
    "dtModel = dt.fit(train)"
   ]
  },
  {
   "cell_type": "code",
   "execution_count": 32,
   "id": "568d0aec-df4d-4fe1-a1f4-ba4681935d08",
   "metadata": {},
   "outputs": [],
   "source": [
    "#Prediction\n",
    "\n",
    "predictions = dtModel.transform(test)"
   ]
  },
  {
   "cell_type": "code",
   "execution_count": 35,
   "id": "0cb812f5-f634-426f-b468-a10dbd888900",
   "metadata": {},
   "outputs": [
    {
     "data": {
      "text/plain": [
       "MulticlassClassificationEvaluator_e4d88b01ddde"
      ]
     },
     "execution_count": 35,
     "metadata": {},
     "output_type": "execute_result"
    }
   ],
   "source": [
    "#Evaluating the performance\n",
    "\n",
    "evaluator = MulticlassClassificationEvaluator()\n",
    "evaluator.setLabelCol(\"class_encoded\")\n",
    "evaluator.setPredictionCol(\"prediction\")"
   ]
  },
  {
   "cell_type": "code",
   "execution_count": 36,
   "id": "8cb47bbc-8b89-4cc7-8714-85b7ed827529",
   "metadata": {},
   "outputs": [
    {
     "name": "stdout",
     "output_type": "stream",
     "text": [
      "Test Area Under ROC:  0.9872947089637973\n"
     ]
    }
   ],
   "source": [
    "print(\"Test Area Under ROC: \",evaluator.evaluate(predictions))"
   ]
  },
  {
   "cell_type": "markdown",
   "id": "f7d1a07e-2571-4800-8a58-9ad5b509f7eb",
   "metadata": {},
   "source": [
    "Résultat avec Desicion Tree"
   ]
  },
  {
   "cell_type": "code",
   "execution_count": 37,
   "id": "2ee8b609-5a43-497c-8770-0581bfa0ae8b",
   "metadata": {},
   "outputs": [],
   "source": [
    "from pyspark.ml.classification import RandomForestClassifier\n",
    "from pyspark.ml.evaluation import MulticlassClassificationEvaluator"
   ]
  },
  {
   "cell_type": "code",
   "execution_count": 38,
   "id": "0ad2a880-fe94-43d8-b89d-130aeaff566f",
   "metadata": {},
   "outputs": [],
   "source": [
    "#Training Model\n",
    "rf = RandomForestClassifier(featuresCol = 'features', labelCol = 'class_encoded', numTrees = 500, maxDepth = 10)\n",
    "rfModel = rf.fit(train)"
   ]
  },
  {
   "cell_type": "code",
   "execution_count": 39,
   "id": "4f2b2047-cee2-45d7-b137-a48ed68bc470",
   "metadata": {},
   "outputs": [],
   "source": [
    "#Prediction\n",
    "predictions = rfModel.transform(test)"
   ]
  },
  {
   "cell_type": "code",
   "execution_count": 40,
   "id": "c156373b-d7d5-4c3a-a89f-1d67a015c567",
   "metadata": {},
   "outputs": [
    {
     "name": "stdout",
     "output_type": "stream",
     "text": [
      "Test Area Under ROC:  1.0\n"
     ]
    }
   ],
   "source": [
    "#Evaluating the performance\n",
    "evaluator = MulticlassClassificationEvaluator()\n",
    "evaluator.setLabelCol(\"class_encoded\")\n",
    "evaluator.setPredictionCol(\"prediction\")\n",
    "print(\"Test Area Under ROC: \",evaluator.evaluate(predictions))"
   ]
  }
 ],
 "metadata": {
  "kernelspec": {
   "display_name": "Python 3 (ipykernel)",
   "language": "python",
   "name": "python3"
  },
  "language_info": {
   "codemirror_mode": {
    "name": "ipython",
    "version": 3
   },
   "file_extension": ".py",
   "mimetype": "text/x-python",
   "name": "python",
   "nbconvert_exporter": "python",
   "pygments_lexer": "ipython3",
   "version": "3.11.6"
  }
 },
 "nbformat": 4,
 "nbformat_minor": 5
}
